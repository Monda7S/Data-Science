{
 "cells": [
  {
   "cell_type": "markdown",
   "id": "15908af2",
   "metadata": {},
   "source": [
    "# Data Cleaning \n"
   ]
  },
  {
   "cell_type": "markdown",
   "id": "88eb9157",
   "metadata": {},
   "source": [
    "# 1 . Load the Dataset"
   ]
  },
  {
   "cell_type": "code",
   "execution_count": 2,
   "id": "a252217e",
   "metadata": {},
   "outputs": [],
   "source": [
    "import pandas as pd\n",
    "import numpy as np\n",
    "import matplotlib.pyplot as plt"
   ]
  },
  {
   "cell_type": "markdown",
   "id": "25a51311",
   "metadata": {},
   "source": [
    "# 2 . Cleaning the Dataset"
   ]
  },
  {
   "cell_type": "code",
   "execution_count": 3,
   "id": "b3a2c537",
   "metadata": {},
   "outputs": [],
   "source": [
    "data = pd.read_csv(\"Monthly_Food_Retail_Price.csv\")"
   ]
  },
  {
   "cell_type": "code",
   "execution_count": 4,
   "id": "dc49fd73",
   "metadata": {},
   "outputs": [
    {
     "data": {
      "text/plain": [
       "(1147446, 8)"
      ]
     },
     "execution_count": 4,
     "metadata": {},
     "output_type": "execute_result"
    }
   ],
   "source": [
    "data.shape"
   ]
  },
  {
   "cell_type": "code",
   "execution_count": 5,
   "id": "820c6c45",
   "metadata": {},
   "outputs": [
    {
     "data": {
      "text/html": [
       "<div>\n",
       "<style scoped>\n",
       "    .dataframe tbody tr th:only-of-type {\n",
       "        vertical-align: middle;\n",
       "    }\n",
       "\n",
       "    .dataframe tbody tr th {\n",
       "        vertical-align: top;\n",
       "    }\n",
       "\n",
       "    .dataframe thead th {\n",
       "        text-align: right;\n",
       "    }\n",
       "</style>\n",
       "<table border=\"1\" class=\"dataframe\">\n",
       "  <thead>\n",
       "    <tr style=\"text-align: right;\">\n",
       "      <th></th>\n",
       "      <th>State</th>\n",
       "      <th>Centre</th>\n",
       "      <th>Commodity</th>\n",
       "      <th>Variety</th>\n",
       "      <th>Unit</th>\n",
       "      <th>Category</th>\n",
       "      <th>Date</th>\n",
       "      <th>Retail Price</th>\n",
       "    </tr>\n",
       "  </thead>\n",
       "  <tbody>\n",
       "    <tr>\n",
       "      <th>0</th>\n",
       "      <td>Andhra Pradesh</td>\n",
       "      <td>Chittoor</td>\n",
       "      <td>Moong</td>\n",
       "      <td>Split</td>\n",
       "      <td>Kg.</td>\n",
       "      <td>Food</td>\n",
       "      <td>JAN-2001</td>\n",
       "      <td>24.0</td>\n",
       "    </tr>\n",
       "    <tr>\n",
       "      <th>1</th>\n",
       "      <td>Andhra Pradesh</td>\n",
       "      <td>Guntur</td>\n",
       "      <td>Moong</td>\n",
       "      <td>Split</td>\n",
       "      <td>Kg.</td>\n",
       "      <td>Food</td>\n",
       "      <td>JAN-2001</td>\n",
       "      <td>26.0</td>\n",
       "    </tr>\n",
       "    <tr>\n",
       "      <th>2</th>\n",
       "      <td>Andhra Pradesh</td>\n",
       "      <td>Kurnool</td>\n",
       "      <td>Moong</td>\n",
       "      <td>Split</td>\n",
       "      <td>Kg.</td>\n",
       "      <td>Food</td>\n",
       "      <td>JAN-2001</td>\n",
       "      <td>25.5</td>\n",
       "    </tr>\n",
       "    <tr>\n",
       "      <th>3</th>\n",
       "      <td>Andhra Pradesh</td>\n",
       "      <td>Vishakhapatnam</td>\n",
       "      <td>Moong</td>\n",
       "      <td>Split</td>\n",
       "      <td>Kg.</td>\n",
       "      <td>Food</td>\n",
       "      <td>JAN-2001</td>\n",
       "      <td>NaN</td>\n",
       "    </tr>\n",
       "    <tr>\n",
       "      <th>4</th>\n",
       "      <td>Arunachal Pradesh</td>\n",
       "      <td>Itanagar</td>\n",
       "      <td>Moong</td>\n",
       "      <td>Split</td>\n",
       "      <td>Kg.</td>\n",
       "      <td>Food</td>\n",
       "      <td>JAN-2001</td>\n",
       "      <td>NaN</td>\n",
       "    </tr>\n",
       "    <tr>\n",
       "      <th>...</th>\n",
       "      <td>...</td>\n",
       "      <td>...</td>\n",
       "      <td>...</td>\n",
       "      <td>...</td>\n",
       "      <td>...</td>\n",
       "      <td>...</td>\n",
       "      <td>...</td>\n",
       "      <td>...</td>\n",
       "    </tr>\n",
       "    <tr>\n",
       "      <th>1147441</th>\n",
       "      <td>West Bengal</td>\n",
       "      <td>Jalpaiguri</td>\n",
       "      <td>Wheat</td>\n",
       "      <td>Kalyan HYV</td>\n",
       "      <td>Kg.</td>\n",
       "      <td>Food</td>\n",
       "      <td>MAR-2021</td>\n",
       "      <td>NaN</td>\n",
       "    </tr>\n",
       "    <tr>\n",
       "      <th>1147442</th>\n",
       "      <td>West Bengal</td>\n",
       "      <td>Kolkata</td>\n",
       "      <td>Wheat</td>\n",
       "      <td>Desi</td>\n",
       "      <td>Kg.</td>\n",
       "      <td>Food</td>\n",
       "      <td>MAR-2021</td>\n",
       "      <td>NaN</td>\n",
       "    </tr>\n",
       "    <tr>\n",
       "      <th>1147443</th>\n",
       "      <td>West Bengal</td>\n",
       "      <td>Kolkata</td>\n",
       "      <td>Wheat</td>\n",
       "      <td>Kalyan HYV</td>\n",
       "      <td>Kg.</td>\n",
       "      <td>Food</td>\n",
       "      <td>MAR-2021</td>\n",
       "      <td>NaN</td>\n",
       "    </tr>\n",
       "    <tr>\n",
       "      <th>1147444</th>\n",
       "      <td>West Bengal</td>\n",
       "      <td>Malda</td>\n",
       "      <td>Wheat</td>\n",
       "      <td>Desi</td>\n",
       "      <td>Kg.</td>\n",
       "      <td>Food</td>\n",
       "      <td>MAR-2021</td>\n",
       "      <td>20.0</td>\n",
       "    </tr>\n",
       "    <tr>\n",
       "      <th>1147445</th>\n",
       "      <td>West Bengal</td>\n",
       "      <td>Malda</td>\n",
       "      <td>Wheat</td>\n",
       "      <td>Kalyan HYV</td>\n",
       "      <td>Kg.</td>\n",
       "      <td>Food</td>\n",
       "      <td>MAR-2021</td>\n",
       "      <td>NaN</td>\n",
       "    </tr>\n",
       "  </tbody>\n",
       "</table>\n",
       "<p>1147446 rows × 8 columns</p>\n",
       "</div>"
      ],
      "text/plain": [
       "                     State          Centre Commodity     Variety Unit  \\\n",
       "0           Andhra Pradesh        Chittoor     Moong       Split  Kg.   \n",
       "1           Andhra Pradesh          Guntur     Moong       Split  Kg.   \n",
       "2           Andhra Pradesh         Kurnool     Moong       Split  Kg.   \n",
       "3           Andhra Pradesh  Vishakhapatnam     Moong       Split  Kg.   \n",
       "4        Arunachal Pradesh        Itanagar     Moong       Split  Kg.   \n",
       "...                    ...             ...       ...         ...  ...   \n",
       "1147441        West Bengal      Jalpaiguri     Wheat  Kalyan HYV  Kg.   \n",
       "1147442        West Bengal         Kolkata     Wheat        Desi  Kg.   \n",
       "1147443        West Bengal         Kolkata     Wheat  Kalyan HYV  Kg.   \n",
       "1147444        West Bengal           Malda     Wheat        Desi  Kg.   \n",
       "1147445        West Bengal           Malda     Wheat  Kalyan HYV  Kg.   \n",
       "\n",
       "        Category      Date  Retail Price  \n",
       "0           Food  JAN-2001          24.0  \n",
       "1           Food  JAN-2001          26.0  \n",
       "2           Food  JAN-2001          25.5  \n",
       "3           Food  JAN-2001           NaN  \n",
       "4           Food  JAN-2001           NaN  \n",
       "...          ...       ...           ...  \n",
       "1147441     Food  MAR-2021           NaN  \n",
       "1147442     Food  MAR-2021           NaN  \n",
       "1147443     Food  MAR-2021           NaN  \n",
       "1147444     Food  MAR-2021          20.0  \n",
       "1147445     Food  MAR-2021           NaN  \n",
       "\n",
       "[1147446 rows x 8 columns]"
      ]
     },
     "execution_count": 5,
     "metadata": {},
     "output_type": "execute_result"
    }
   ],
   "source": [
    "data"
   ]
  },
  {
   "cell_type": "markdown",
   "id": "43d72dc9",
   "metadata": {},
   "source": [
    "# 3 . The missing values (Column_wise)"
   ]
  },
  {
   "cell_type": "code",
   "execution_count": 6,
   "id": "926fcb64",
   "metadata": {},
   "outputs": [
    {
     "data": {
      "text/html": [
       "<div>\n",
       "<style scoped>\n",
       "    .dataframe tbody tr th:only-of-type {\n",
       "        vertical-align: middle;\n",
       "    }\n",
       "\n",
       "    .dataframe tbody tr th {\n",
       "        vertical-align: top;\n",
       "    }\n",
       "\n",
       "    .dataframe thead th {\n",
       "        text-align: right;\n",
       "    }\n",
       "</style>\n",
       "<table border=\"1\" class=\"dataframe\">\n",
       "  <thead>\n",
       "    <tr style=\"text-align: right;\">\n",
       "      <th></th>\n",
       "      <th>State</th>\n",
       "      <th>Centre</th>\n",
       "      <th>Commodity</th>\n",
       "      <th>Variety</th>\n",
       "      <th>Unit</th>\n",
       "      <th>Category</th>\n",
       "      <th>Date</th>\n",
       "      <th>Retail Price</th>\n",
       "    </tr>\n",
       "  </thead>\n",
       "  <tbody>\n",
       "    <tr>\n",
       "      <th>0</th>\n",
       "      <td>Andhra Pradesh</td>\n",
       "      <td>Chittoor</td>\n",
       "      <td>Moong</td>\n",
       "      <td>Split</td>\n",
       "      <td>Kg.</td>\n",
       "      <td>Food</td>\n",
       "      <td>JAN-2001</td>\n",
       "      <td>24.0</td>\n",
       "    </tr>\n",
       "    <tr>\n",
       "      <th>1</th>\n",
       "      <td>Andhra Pradesh</td>\n",
       "      <td>Guntur</td>\n",
       "      <td>Moong</td>\n",
       "      <td>Split</td>\n",
       "      <td>Kg.</td>\n",
       "      <td>Food</td>\n",
       "      <td>JAN-2001</td>\n",
       "      <td>26.0</td>\n",
       "    </tr>\n",
       "    <tr>\n",
       "      <th>2</th>\n",
       "      <td>Andhra Pradesh</td>\n",
       "      <td>Kurnool</td>\n",
       "      <td>Moong</td>\n",
       "      <td>Split</td>\n",
       "      <td>Kg.</td>\n",
       "      <td>Food</td>\n",
       "      <td>JAN-2001</td>\n",
       "      <td>25.5</td>\n",
       "    </tr>\n",
       "    <tr>\n",
       "      <th>3</th>\n",
       "      <td>Andhra Pradesh</td>\n",
       "      <td>Vishakhapatnam</td>\n",
       "      <td>Moong</td>\n",
       "      <td>Split</td>\n",
       "      <td>Kg.</td>\n",
       "      <td>Food</td>\n",
       "      <td>JAN-2001</td>\n",
       "      <td>NaN</td>\n",
       "    </tr>\n",
       "    <tr>\n",
       "      <th>4</th>\n",
       "      <td>Arunachal Pradesh</td>\n",
       "      <td>Itanagar</td>\n",
       "      <td>Moong</td>\n",
       "      <td>Split</td>\n",
       "      <td>Kg.</td>\n",
       "      <td>Food</td>\n",
       "      <td>JAN-2001</td>\n",
       "      <td>NaN</td>\n",
       "    </tr>\n",
       "    <tr>\n",
       "      <th>...</th>\n",
       "      <td>...</td>\n",
       "      <td>...</td>\n",
       "      <td>...</td>\n",
       "      <td>...</td>\n",
       "      <td>...</td>\n",
       "      <td>...</td>\n",
       "      <td>...</td>\n",
       "      <td>...</td>\n",
       "    </tr>\n",
       "    <tr>\n",
       "      <th>1147441</th>\n",
       "      <td>West Bengal</td>\n",
       "      <td>Jalpaiguri</td>\n",
       "      <td>Wheat</td>\n",
       "      <td>Kalyan HYV</td>\n",
       "      <td>Kg.</td>\n",
       "      <td>Food</td>\n",
       "      <td>MAR-2021</td>\n",
       "      <td>NaN</td>\n",
       "    </tr>\n",
       "    <tr>\n",
       "      <th>1147442</th>\n",
       "      <td>West Bengal</td>\n",
       "      <td>Kolkata</td>\n",
       "      <td>Wheat</td>\n",
       "      <td>Desi</td>\n",
       "      <td>Kg.</td>\n",
       "      <td>Food</td>\n",
       "      <td>MAR-2021</td>\n",
       "      <td>NaN</td>\n",
       "    </tr>\n",
       "    <tr>\n",
       "      <th>1147443</th>\n",
       "      <td>West Bengal</td>\n",
       "      <td>Kolkata</td>\n",
       "      <td>Wheat</td>\n",
       "      <td>Kalyan HYV</td>\n",
       "      <td>Kg.</td>\n",
       "      <td>Food</td>\n",
       "      <td>MAR-2021</td>\n",
       "      <td>NaN</td>\n",
       "    </tr>\n",
       "    <tr>\n",
       "      <th>1147444</th>\n",
       "      <td>West Bengal</td>\n",
       "      <td>Malda</td>\n",
       "      <td>Wheat</td>\n",
       "      <td>Desi</td>\n",
       "      <td>Kg.</td>\n",
       "      <td>Food</td>\n",
       "      <td>MAR-2021</td>\n",
       "      <td>20.0</td>\n",
       "    </tr>\n",
       "    <tr>\n",
       "      <th>1147445</th>\n",
       "      <td>West Bengal</td>\n",
       "      <td>Malda</td>\n",
       "      <td>Wheat</td>\n",
       "      <td>Kalyan HYV</td>\n",
       "      <td>Kg.</td>\n",
       "      <td>Food</td>\n",
       "      <td>MAR-2021</td>\n",
       "      <td>NaN</td>\n",
       "    </tr>\n",
       "  </tbody>\n",
       "</table>\n",
       "<p>1147446 rows × 8 columns</p>\n",
       "</div>"
      ],
      "text/plain": [
       "                     State          Centre Commodity     Variety Unit  \\\n",
       "0           Andhra Pradesh        Chittoor     Moong       Split  Kg.   \n",
       "1           Andhra Pradesh          Guntur     Moong       Split  Kg.   \n",
       "2           Andhra Pradesh         Kurnool     Moong       Split  Kg.   \n",
       "3           Andhra Pradesh  Vishakhapatnam     Moong       Split  Kg.   \n",
       "4        Arunachal Pradesh        Itanagar     Moong       Split  Kg.   \n",
       "...                    ...             ...       ...         ...  ...   \n",
       "1147441        West Bengal      Jalpaiguri     Wheat  Kalyan HYV  Kg.   \n",
       "1147442        West Bengal         Kolkata     Wheat        Desi  Kg.   \n",
       "1147443        West Bengal         Kolkata     Wheat  Kalyan HYV  Kg.   \n",
       "1147444        West Bengal           Malda     Wheat        Desi  Kg.   \n",
       "1147445        West Bengal           Malda     Wheat  Kalyan HYV  Kg.   \n",
       "\n",
       "        Category      Date  Retail Price  \n",
       "0           Food  JAN-2001          24.0  \n",
       "1           Food  JAN-2001          26.0  \n",
       "2           Food  JAN-2001          25.5  \n",
       "3           Food  JAN-2001           NaN  \n",
       "4           Food  JAN-2001           NaN  \n",
       "...          ...       ...           ...  \n",
       "1147441     Food  MAR-2021           NaN  \n",
       "1147442     Food  MAR-2021           NaN  \n",
       "1147443     Food  MAR-2021           NaN  \n",
       "1147444     Food  MAR-2021          20.0  \n",
       "1147445     Food  MAR-2021           NaN  \n",
       "\n",
       "[1147446 rows x 8 columns]"
      ]
     },
     "execution_count": 6,
     "metadata": {},
     "output_type": "execute_result"
    }
   ],
   "source": [
    "data"
   ]
  },
  {
   "cell_type": "markdown",
   "id": "d13315a1",
   "metadata": {},
   "source": [
    "# The missing Values (Column_Wise)"
   ]
  },
  {
   "cell_type": "code",
   "execution_count": 7,
   "id": "3fb80537",
   "metadata": {},
   "outputs": [
    {
     "data": {
      "text/plain": [
       "Retail Price    568921\n",
       "Variety         205578\n",
       "Commodity         9720\n",
       "State                0\n",
       "Centre               0\n",
       "Unit                 0\n",
       "Category             0\n",
       "Date                 0\n",
       "dtype: int64"
      ]
     },
     "execution_count": 7,
     "metadata": {},
     "output_type": "execute_result"
    }
   ],
   "source": [
    "data.isnull().sum(axis=0).sort_values(ascending=False)"
   ]
  },
  {
   "cell_type": "markdown",
   "id": "f2ffd779",
   "metadata": {},
   "source": [
    "# The missing values (row_wise)\n"
   ]
  },
  {
   "cell_type": "code",
   "execution_count": 8,
   "id": "2ce659ad",
   "metadata": {},
   "outputs": [
    {
     "data": {
      "text/plain": [
       "502684    3\n",
       "618314    3\n",
       "57562     3\n",
       "144072    3\n",
       "359399    3\n",
       "         ..\n",
       "724861    0\n",
       "275986    0\n",
       "724859    0\n",
       "275987    0\n",
       "0         0\n",
       "Length: 1147446, dtype: int64"
      ]
     },
     "execution_count": 8,
     "metadata": {},
     "output_type": "execute_result"
    }
   ],
   "source": [
    "data.isnull().sum(axis=1).sort_values(ascending=False)"
   ]
  },
  {
   "cell_type": "markdown",
   "id": "694682be",
   "metadata": {},
   "source": [
    "# Column having at least one missing value"
   ]
  },
  {
   "cell_type": "code",
   "execution_count": 9,
   "id": "cc13a475",
   "metadata": {},
   "outputs": [
    {
     "data": {
      "text/plain": [
       "State           False\n",
       "Centre          False\n",
       "Commodity        True\n",
       "Variety          True\n",
       "Unit            False\n",
       "Category        False\n",
       "Date            False\n",
       "Retail Price     True\n",
       "dtype: bool"
      ]
     },
     "execution_count": 9,
     "metadata": {},
     "output_type": "execute_result"
    }
   ],
   "source": [
    "d=data.isnull().any()\n",
    "d"
   ]
  },
  {
   "cell_type": "code",
   "execution_count": 10,
   "id": "c245850f",
   "metadata": {},
   "outputs": [
    {
     "data": {
      "text/plain": [
       "Index(['State', 'Centre', 'Commodity', 'Variety', 'Unit', 'Category', 'Date',\n",
       "       'Retail Price'],\n",
       "      dtype='object')"
      ]
     },
     "execution_count": 10,
     "metadata": {},
     "output_type": "execute_result"
    }
   ],
   "source": [
    "d.index"
   ]
  },
  {
   "cell_type": "markdown",
   "id": "d83053cf",
   "metadata": {},
   "source": [
    "# Column Having all missing values"
   ]
  },
  {
   "cell_type": "code",
   "execution_count": 11,
   "id": "ec8f368b",
   "metadata": {},
   "outputs": [
    {
     "data": {
      "text/plain": [
       "State           False\n",
       "Centre          False\n",
       "Commodity       False\n",
       "Variety         False\n",
       "Unit            False\n",
       "Category        False\n",
       "Date            False\n",
       "Retail Price    False\n",
       "dtype: bool"
      ]
     },
     "execution_count": 11,
     "metadata": {},
     "output_type": "execute_result"
    }
   ],
   "source": [
    "data.isnull().all(axis=0)"
   ]
  },
  {
   "cell_type": "markdown",
   "id": "1ccd7f26",
   "metadata": {},
   "source": [
    "# Rows having all missing values"
   ]
  },
  {
   "cell_type": "code",
   "execution_count": 12,
   "id": "313146db",
   "metadata": {},
   "outputs": [
    {
     "data": {
      "text/plain": [
       "0"
      ]
     },
     "execution_count": 12,
     "metadata": {},
     "output_type": "execute_result"
    }
   ],
   "source": [
    "data.isnull().all(axis=1).sum()"
   ]
  },
  {
   "cell_type": "markdown",
   "id": "2b4dd1b4",
   "metadata": {},
   "source": [
    "# 4 . Save the clean data in CSV and JSON format"
   ]
  },
  {
   "cell_type": "code",
   "execution_count": 13,
   "id": "72400fba",
   "metadata": {},
   "outputs": [],
   "source": [
    "import csv"
   ]
  },
  {
   "cell_type": "code",
   "execution_count": 14,
   "id": "46d3a127",
   "metadata": {},
   "outputs": [],
   "source": [
    "data.to_csv(\"Sujan_Clean_EDA_Data.csv\")"
   ]
  },
  {
   "cell_type": "code",
   "execution_count": 15,
   "id": "3c16c80d",
   "metadata": {},
   "outputs": [],
   "source": [
    "data.to_json(\"Sujan_Clean_EDA_Data.json\")"
   ]
  },
  {
   "cell_type": "code",
   "execution_count": 16,
   "id": "96be4160",
   "metadata": {},
   "outputs": [
    {
     "data": {
      "text/plain": [
       "(1147446, 8)"
      ]
     },
     "execution_count": 16,
     "metadata": {},
     "output_type": "execute_result"
    }
   ],
   "source": [
    "data.shape"
   ]
  },
  {
   "cell_type": "markdown",
   "id": "d9917224",
   "metadata": {},
   "source": [
    "# EDA with Visualization if required"
   ]
  },
  {
   "cell_type": "markdown",
   "id": "00e0e008",
   "metadata": {},
   "source": [
    "# 5 . Load Cleaned Dataset"
   ]
  },
  {
   "cell_type": "code",
   "execution_count": 31,
   "id": "79fe525e",
   "metadata": {},
   "outputs": [
    {
     "data": {
      "text/html": [
       "<div>\n",
       "<style scoped>\n",
       "    .dataframe tbody tr th:only-of-type {\n",
       "        vertical-align: middle;\n",
       "    }\n",
       "\n",
       "    .dataframe tbody tr th {\n",
       "        vertical-align: top;\n",
       "    }\n",
       "\n",
       "    .dataframe thead th {\n",
       "        text-align: right;\n",
       "    }\n",
       "</style>\n",
       "<table border=\"1\" class=\"dataframe\">\n",
       "  <thead>\n",
       "    <tr style=\"text-align: right;\">\n",
       "      <th></th>\n",
       "      <th>State</th>\n",
       "      <th>Centre</th>\n",
       "      <th>Commodity</th>\n",
       "      <th>Variety</th>\n",
       "      <th>Unit</th>\n",
       "      <th>Category</th>\n",
       "      <th>Date</th>\n",
       "      <th>Retail Price</th>\n",
       "    </tr>\n",
       "  </thead>\n",
       "  <tbody>\n",
       "    <tr>\n",
       "      <th>0</th>\n",
       "      <td>Andhra Pradesh</td>\n",
       "      <td>Chittoor</td>\n",
       "      <td>Moong</td>\n",
       "      <td>Split</td>\n",
       "      <td>Kg.</td>\n",
       "      <td>Food</td>\n",
       "      <td>JAN-2001</td>\n",
       "      <td>24.0</td>\n",
       "    </tr>\n",
       "    <tr>\n",
       "      <th>1</th>\n",
       "      <td>Andhra Pradesh</td>\n",
       "      <td>Guntur</td>\n",
       "      <td>Moong</td>\n",
       "      <td>Split</td>\n",
       "      <td>Kg.</td>\n",
       "      <td>Food</td>\n",
       "      <td>JAN-2001</td>\n",
       "      <td>26.0</td>\n",
       "    </tr>\n",
       "    <tr>\n",
       "      <th>2</th>\n",
       "      <td>Andhra Pradesh</td>\n",
       "      <td>Kurnool</td>\n",
       "      <td>Moong</td>\n",
       "      <td>Split</td>\n",
       "      <td>Kg.</td>\n",
       "      <td>Food</td>\n",
       "      <td>JAN-2001</td>\n",
       "      <td>25.5</td>\n",
       "    </tr>\n",
       "    <tr>\n",
       "      <th>3</th>\n",
       "      <td>Andhra Pradesh</td>\n",
       "      <td>Vishakhapatnam</td>\n",
       "      <td>Moong</td>\n",
       "      <td>Split</td>\n",
       "      <td>Kg.</td>\n",
       "      <td>Food</td>\n",
       "      <td>JAN-2001</td>\n",
       "      <td>NaN</td>\n",
       "    </tr>\n",
       "    <tr>\n",
       "      <th>4</th>\n",
       "      <td>Arunachal Pradesh</td>\n",
       "      <td>Itanagar</td>\n",
       "      <td>Moong</td>\n",
       "      <td>Split</td>\n",
       "      <td>Kg.</td>\n",
       "      <td>Food</td>\n",
       "      <td>JAN-2001</td>\n",
       "      <td>NaN</td>\n",
       "    </tr>\n",
       "    <tr>\n",
       "      <th>...</th>\n",
       "      <td>...</td>\n",
       "      <td>...</td>\n",
       "      <td>...</td>\n",
       "      <td>...</td>\n",
       "      <td>...</td>\n",
       "      <td>...</td>\n",
       "      <td>...</td>\n",
       "      <td>...</td>\n",
       "    </tr>\n",
       "    <tr>\n",
       "      <th>1147441</th>\n",
       "      <td>West Bengal</td>\n",
       "      <td>Jalpaiguri</td>\n",
       "      <td>Wheat</td>\n",
       "      <td>Kalyan HYV</td>\n",
       "      <td>Kg.</td>\n",
       "      <td>Food</td>\n",
       "      <td>MAR-2021</td>\n",
       "      <td>NaN</td>\n",
       "    </tr>\n",
       "    <tr>\n",
       "      <th>1147442</th>\n",
       "      <td>West Bengal</td>\n",
       "      <td>Kolkata</td>\n",
       "      <td>Wheat</td>\n",
       "      <td>Desi</td>\n",
       "      <td>Kg.</td>\n",
       "      <td>Food</td>\n",
       "      <td>MAR-2021</td>\n",
       "      <td>NaN</td>\n",
       "    </tr>\n",
       "    <tr>\n",
       "      <th>1147443</th>\n",
       "      <td>West Bengal</td>\n",
       "      <td>Kolkata</td>\n",
       "      <td>Wheat</td>\n",
       "      <td>Kalyan HYV</td>\n",
       "      <td>Kg.</td>\n",
       "      <td>Food</td>\n",
       "      <td>MAR-2021</td>\n",
       "      <td>NaN</td>\n",
       "    </tr>\n",
       "    <tr>\n",
       "      <th>1147444</th>\n",
       "      <td>West Bengal</td>\n",
       "      <td>Malda</td>\n",
       "      <td>Wheat</td>\n",
       "      <td>Desi</td>\n",
       "      <td>Kg.</td>\n",
       "      <td>Food</td>\n",
       "      <td>MAR-2021</td>\n",
       "      <td>20.0</td>\n",
       "    </tr>\n",
       "    <tr>\n",
       "      <th>1147445</th>\n",
       "      <td>West Bengal</td>\n",
       "      <td>Malda</td>\n",
       "      <td>Wheat</td>\n",
       "      <td>Kalyan HYV</td>\n",
       "      <td>Kg.</td>\n",
       "      <td>Food</td>\n",
       "      <td>MAR-2021</td>\n",
       "      <td>NaN</td>\n",
       "    </tr>\n",
       "  </tbody>\n",
       "</table>\n",
       "<p>1147446 rows × 8 columns</p>\n",
       "</div>"
      ],
      "text/plain": [
       "                     State          Centre Commodity     Variety Unit  \\\n",
       "0           Andhra Pradesh        Chittoor     Moong       Split  Kg.   \n",
       "1           Andhra Pradesh          Guntur     Moong       Split  Kg.   \n",
       "2           Andhra Pradesh         Kurnool     Moong       Split  Kg.   \n",
       "3           Andhra Pradesh  Vishakhapatnam     Moong       Split  Kg.   \n",
       "4        Arunachal Pradesh        Itanagar     Moong       Split  Kg.   \n",
       "...                    ...             ...       ...         ...  ...   \n",
       "1147441        West Bengal      Jalpaiguri     Wheat  Kalyan HYV  Kg.   \n",
       "1147442        West Bengal         Kolkata     Wheat        Desi  Kg.   \n",
       "1147443        West Bengal         Kolkata     Wheat  Kalyan HYV  Kg.   \n",
       "1147444        West Bengal           Malda     Wheat        Desi  Kg.   \n",
       "1147445        West Bengal           Malda     Wheat  Kalyan HYV  Kg.   \n",
       "\n",
       "        Category      Date  Retail Price  \n",
       "0           Food  JAN-2001          24.0  \n",
       "1           Food  JAN-2001          26.0  \n",
       "2           Food  JAN-2001          25.5  \n",
       "3           Food  JAN-2001           NaN  \n",
       "4           Food  JAN-2001           NaN  \n",
       "...          ...       ...           ...  \n",
       "1147441     Food  MAR-2021           NaN  \n",
       "1147442     Food  MAR-2021           NaN  \n",
       "1147443     Food  MAR-2021           NaN  \n",
       "1147444     Food  MAR-2021          20.0  \n",
       "1147445     Food  MAR-2021           NaN  \n",
       "\n",
       "[1147446 rows x 8 columns]"
      ]
     },
     "execution_count": 31,
     "metadata": {},
     "output_type": "execute_result"
    }
   ],
   "source": [
    "df2 = data\n",
    "df2"
   ]
  },
  {
   "cell_type": "markdown",
   "id": "c54ad4ac",
   "metadata": {},
   "source": [
    "# 6 . Which data has highest price of wheat"
   ]
  },
  {
   "cell_type": "code",
   "execution_count": 38,
   "id": "678e865d",
   "metadata": {},
   "outputs": [
    {
     "ename": "SyntaxError",
     "evalue": "invalid syntax (Temp/ipykernel_19084/924107488.py, line 1)",
     "output_type": "error",
     "traceback": [
      "\u001b[1;36m  File \u001b[1;32m\"C:\\Users\\SUJAN\\AppData\\Local\\Temp/ipykernel_19084/924107488.py\"\u001b[1;36m, line \u001b[1;32m1\u001b[0m\n\u001b[1;33m    df.price to_list()\u001b[0m\n\u001b[1;37m             ^\u001b[0m\n\u001b[1;31mSyntaxError\u001b[0m\u001b[1;31m:\u001b[0m invalid syntax\n"
     ]
    }
   ],
   "source": []
  },
  {
   "cell_type": "code",
   "execution_count": null,
   "id": "cc0240ee",
   "metadata": {},
   "outputs": [],
   "source": []
  }
 ],
 "metadata": {
  "kernelspec": {
   "display_name": "Python 3 (ipykernel)",
   "language": "python",
   "name": "python3"
  },
  "language_info": {
   "codemirror_mode": {
    "name": "ipython",
    "version": 3
   },
   "file_extension": ".py",
   "mimetype": "text/x-python",
   "name": "python",
   "nbconvert_exporter": "python",
   "pygments_lexer": "ipython3",
   "version": "3.9.7"
  }
 },
 "nbformat": 4,
 "nbformat_minor": 5
}
