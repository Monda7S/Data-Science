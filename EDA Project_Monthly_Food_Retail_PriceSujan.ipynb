{
 "cells": [
  {
   "cell_type": "markdown",
   "id": "88eb9157",
   "metadata": {},
   "source": [
    "# 1 . Load the Dataset"
   ]
  },
  {
   "cell_type": "code",
   "execution_count": 4,
   "id": "a252217e",
   "metadata": {},
   "outputs": [],
   "source": [
    "import pandas as pd\n",
    "import numpy as np\n",
    "import matplotlib.pyplot as plt\n",
    "import seaborn as sns"
   ]
  },
  {
   "cell_type": "markdown",
   "id": "25a51311",
   "metadata": {},
   "source": [
    "# 2 . Cleaning the Dataset"
   ]
  },
  {
   "cell_type": "code",
   "execution_count": 31,
   "id": "e6ac961c",
   "metadata": {},
   "outputs": [],
   "source": [
    "df = pd.read_csv(\"Monthly_Food_Retail_Price.csv\")"
   ]
  },
  {
   "cell_type": "code",
   "execution_count": 32,
   "id": "b3a2c537",
   "metadata": {},
   "outputs": [
    {
     "data": {
      "text/plain": [
       "array(['Food'], dtype=object)"
      ]
     },
     "execution_count": 32,
     "metadata": {},
     "output_type": "execute_result"
    }
   ],
   "source": [
    "df['Category'].unique()"
   ]
  },
  {
   "cell_type": "code",
   "execution_count": 33,
   "id": "8df5157c",
   "metadata": {},
   "outputs": [
    {
     "data": {
      "text/plain": [
       "array(['Kg.', 'Kg/Litre', '100gm. Pkt', '250gm. Pkt', 'Dozen',\n",
       "       '80gm. Pkt', 'Litre', 'Kg', '400/800 Gm', 'Peice', '500gm. Pkt'],\n",
       "      dtype=object)"
      ]
     },
     "execution_count": 33,
     "metadata": {},
     "output_type": "execute_result"
    }
   ],
   "source": [
    "df['Unit'].unique()"
   ]
  },
  {
   "cell_type": "code",
   "execution_count": 34,
   "id": "820c6c45",
   "metadata": {},
   "outputs": [],
   "source": [
    "df = df.drop(['Category', 'Unit'],axis = 1)"
   ]
  },
  {
   "cell_type": "code",
   "execution_count": 35,
   "id": "f3acc042",
   "metadata": {},
   "outputs": [
    {
     "data": {
      "text/html": [
       "<div>\n",
       "<style scoped>\n",
       "    .dataframe tbody tr th:only-of-type {\n",
       "        vertical-align: middle;\n",
       "    }\n",
       "\n",
       "    .dataframe tbody tr th {\n",
       "        vertical-align: top;\n",
       "    }\n",
       "\n",
       "    .dataframe thead th {\n",
       "        text-align: right;\n",
       "    }\n",
       "</style>\n",
       "<table border=\"1\" class=\"dataframe\">\n",
       "  <thead>\n",
       "    <tr style=\"text-align: right;\">\n",
       "      <th></th>\n",
       "      <th>State</th>\n",
       "      <th>Centre</th>\n",
       "      <th>Commodity</th>\n",
       "      <th>Variety</th>\n",
       "      <th>Date</th>\n",
       "      <th>Retails_Price</th>\n",
       "    </tr>\n",
       "  </thead>\n",
       "  <tbody>\n",
       "    <tr>\n",
       "      <th>0</th>\n",
       "      <td>Andhra Pradesh</td>\n",
       "      <td>Chittoor</td>\n",
       "      <td>Moong</td>\n",
       "      <td>Split</td>\n",
       "      <td>JAN-2001</td>\n",
       "      <td>24.0</td>\n",
       "    </tr>\n",
       "    <tr>\n",
       "      <th>1</th>\n",
       "      <td>Andhra Pradesh</td>\n",
       "      <td>Guntur</td>\n",
       "      <td>Moong</td>\n",
       "      <td>Split</td>\n",
       "      <td>JAN-2001</td>\n",
       "      <td>26.0</td>\n",
       "    </tr>\n",
       "    <tr>\n",
       "      <th>2</th>\n",
       "      <td>Andhra Pradesh</td>\n",
       "      <td>Kurnool</td>\n",
       "      <td>Moong</td>\n",
       "      <td>Split</td>\n",
       "      <td>JAN-2001</td>\n",
       "      <td>25.5</td>\n",
       "    </tr>\n",
       "    <tr>\n",
       "      <th>3</th>\n",
       "      <td>Andhra Pradesh</td>\n",
       "      <td>Vishakhapatnam</td>\n",
       "      <td>Moong</td>\n",
       "      <td>Split</td>\n",
       "      <td>JAN-2001</td>\n",
       "      <td>NaN</td>\n",
       "    </tr>\n",
       "    <tr>\n",
       "      <th>4</th>\n",
       "      <td>Arunachal Pradesh</td>\n",
       "      <td>Itanagar</td>\n",
       "      <td>Moong</td>\n",
       "      <td>Split</td>\n",
       "      <td>JAN-2001</td>\n",
       "      <td>NaN</td>\n",
       "    </tr>\n",
       "    <tr>\n",
       "      <th>...</th>\n",
       "      <td>...</td>\n",
       "      <td>...</td>\n",
       "      <td>...</td>\n",
       "      <td>...</td>\n",
       "      <td>...</td>\n",
       "      <td>...</td>\n",
       "    </tr>\n",
       "    <tr>\n",
       "      <th>1147441</th>\n",
       "      <td>West Bengal</td>\n",
       "      <td>Jalpaiguri</td>\n",
       "      <td>Wheat</td>\n",
       "      <td>Kalyan HYV</td>\n",
       "      <td>MAR-2021</td>\n",
       "      <td>NaN</td>\n",
       "    </tr>\n",
       "    <tr>\n",
       "      <th>1147442</th>\n",
       "      <td>West Bengal</td>\n",
       "      <td>Kolkata</td>\n",
       "      <td>Wheat</td>\n",
       "      <td>Desi</td>\n",
       "      <td>MAR-2021</td>\n",
       "      <td>NaN</td>\n",
       "    </tr>\n",
       "    <tr>\n",
       "      <th>1147443</th>\n",
       "      <td>West Bengal</td>\n",
       "      <td>Kolkata</td>\n",
       "      <td>Wheat</td>\n",
       "      <td>Kalyan HYV</td>\n",
       "      <td>MAR-2021</td>\n",
       "      <td>NaN</td>\n",
       "    </tr>\n",
       "    <tr>\n",
       "      <th>1147444</th>\n",
       "      <td>West Bengal</td>\n",
       "      <td>Malda</td>\n",
       "      <td>Wheat</td>\n",
       "      <td>Desi</td>\n",
       "      <td>MAR-2021</td>\n",
       "      <td>20.0</td>\n",
       "    </tr>\n",
       "    <tr>\n",
       "      <th>1147445</th>\n",
       "      <td>West Bengal</td>\n",
       "      <td>Malda</td>\n",
       "      <td>Wheat</td>\n",
       "      <td>Kalyan HYV</td>\n",
       "      <td>MAR-2021</td>\n",
       "      <td>NaN</td>\n",
       "    </tr>\n",
       "  </tbody>\n",
       "</table>\n",
       "<p>1147446 rows × 6 columns</p>\n",
       "</div>"
      ],
      "text/plain": [
       "                     State          Centre Commodity     Variety      Date  \\\n",
       "0           Andhra Pradesh        Chittoor     Moong       Split  JAN-2001   \n",
       "1           Andhra Pradesh          Guntur     Moong       Split  JAN-2001   \n",
       "2           Andhra Pradesh         Kurnool     Moong       Split  JAN-2001   \n",
       "3           Andhra Pradesh  Vishakhapatnam     Moong       Split  JAN-2001   \n",
       "4        Arunachal Pradesh        Itanagar     Moong       Split  JAN-2001   \n",
       "...                    ...             ...       ...         ...       ...   \n",
       "1147441        West Bengal      Jalpaiguri     Wheat  Kalyan HYV  MAR-2021   \n",
       "1147442        West Bengal         Kolkata     Wheat        Desi  MAR-2021   \n",
       "1147443        West Bengal         Kolkata     Wheat  Kalyan HYV  MAR-2021   \n",
       "1147444        West Bengal           Malda     Wheat        Desi  MAR-2021   \n",
       "1147445        West Bengal           Malda     Wheat  Kalyan HYV  MAR-2021   \n",
       "\n",
       "         Retails_Price  \n",
       "0                 24.0  \n",
       "1                 26.0  \n",
       "2                 25.5  \n",
       "3                  NaN  \n",
       "4                  NaN  \n",
       "...                ...  \n",
       "1147441            NaN  \n",
       "1147442            NaN  \n",
       "1147443            NaN  \n",
       "1147444           20.0  \n",
       "1147445            NaN  \n",
       "\n",
       "[1147446 rows x 6 columns]"
      ]
     },
     "execution_count": 35,
     "metadata": {},
     "output_type": "execute_result"
    }
   ],
   "source": [
    "df = df.rename(columns = {'Retail Price': 'Retails_Price'}, inplace = False)\n",
    "df"
   ]
  },
  {
   "cell_type": "markdown",
   "id": "1de91a45",
   "metadata": {},
   "source": [
    "# The Shape Data"
   ]
  },
  {
   "cell_type": "code",
   "execution_count": 36,
   "id": "44884897",
   "metadata": {},
   "outputs": [
    {
     "data": {
      "text/plain": [
       "(1147446, 6)"
      ]
     },
     "execution_count": 36,
     "metadata": {},
     "output_type": "execute_result"
    }
   ],
   "source": [
    "df.shape"
   ]
  },
  {
   "cell_type": "code",
   "execution_count": 37,
   "id": "d6df81b8",
   "metadata": {},
   "outputs": [
    {
     "data": {
      "text/plain": [
       "2"
      ]
     },
     "execution_count": 37,
     "metadata": {},
     "output_type": "execute_result"
    }
   ],
   "source": [
    "df.ndim"
   ]
  },
  {
   "cell_type": "code",
   "execution_count": 38,
   "id": "921a962e",
   "metadata": {},
   "outputs": [
    {
     "data": {
      "text/plain": [
       "6884676"
      ]
     },
     "execution_count": 38,
     "metadata": {},
     "output_type": "execute_result"
    }
   ],
   "source": [
    "df.size"
   ]
  },
  {
   "cell_type": "markdown",
   "id": "463a2e88",
   "metadata": {},
   "source": [
    "# Print all columns Name"
   ]
  },
  {
   "cell_type": "code",
   "execution_count": 39,
   "id": "b8cb16ef",
   "metadata": {},
   "outputs": [
    {
     "data": {
      "text/plain": [
       "Index(['State', 'Centre', 'Commodity', 'Variety', 'Date', 'Retails_Price'], dtype='object')"
      ]
     },
     "execution_count": 39,
     "metadata": {},
     "output_type": "execute_result"
    }
   ],
   "source": [
    "df.columns"
   ]
  },
  {
   "cell_type": "code",
   "execution_count": 40,
   "id": "0e5e4958",
   "metadata": {},
   "outputs": [
    {
     "data": {
      "text/plain": [
       "RangeIndex(start=0, stop=1147446, step=1)"
      ]
     },
     "execution_count": 40,
     "metadata": {},
     "output_type": "execute_result"
    }
   ],
   "source": [
    "df.index"
   ]
  },
  {
   "cell_type": "markdown",
   "id": "e5978b09",
   "metadata": {},
   "source": [
    "# Find the data type of all the columns"
   ]
  },
  {
   "cell_type": "code",
   "execution_count": 15,
   "id": "06b0591c",
   "metadata": {},
   "outputs": [
    {
     "data": {
      "text/plain": [
       "State             object\n",
       "Centre            object\n",
       "Commodity         object\n",
       "Variety           object\n",
       "Date              object\n",
       "Retails_Price    float64\n",
       "dtype: object"
      ]
     },
     "execution_count": 15,
     "metadata": {},
     "output_type": "execute_result"
    }
   ],
   "source": [
    "df.dtypes"
   ]
  },
  {
   "cell_type": "markdown",
   "id": "ed13ebb8",
   "metadata": {},
   "source": [
    "# Print information & Describe"
   ]
  },
  {
   "cell_type": "code",
   "execution_count": 16,
   "id": "075152f2",
   "metadata": {},
   "outputs": [
    {
     "name": "stdout",
     "output_type": "stream",
     "text": [
      "<class 'pandas.core.frame.DataFrame'>\n",
      "RangeIndex: 1147446 entries, 0 to 1147445\n",
      "Data columns (total 6 columns):\n",
      " #   Column         Non-Null Count    Dtype  \n",
      "---  ------         --------------    -----  \n",
      " 0   State          1147446 non-null  object \n",
      " 1   Centre         1147446 non-null  object \n",
      " 2   Commodity      1137726 non-null  object \n",
      " 3   Variety        941868 non-null   object \n",
      " 4   Date           1147446 non-null  object \n",
      " 5   Retails_Price  578525 non-null   float64\n",
      "dtypes: float64(1), object(5)\n",
      "memory usage: 52.5+ MB\n"
     ]
    }
   ],
   "source": [
    "df.info()"
   ]
  },
  {
   "cell_type": "code",
   "execution_count": 17,
   "id": "009278e3",
   "metadata": {},
   "outputs": [
    {
     "data": {
      "text/html": [
       "<div>\n",
       "<style scoped>\n",
       "    .dataframe tbody tr th:only-of-type {\n",
       "        vertical-align: middle;\n",
       "    }\n",
       "\n",
       "    .dataframe tbody tr th {\n",
       "        vertical-align: top;\n",
       "    }\n",
       "\n",
       "    .dataframe thead th {\n",
       "        text-align: right;\n",
       "    }\n",
       "</style>\n",
       "<table border=\"1\" class=\"dataframe\">\n",
       "  <thead>\n",
       "    <tr style=\"text-align: right;\">\n",
       "      <th></th>\n",
       "      <th>Retails_Price</th>\n",
       "    </tr>\n",
       "  </thead>\n",
       "  <tbody>\n",
       "    <tr>\n",
       "      <th>count</th>\n",
       "      <td>578525.000000</td>\n",
       "    </tr>\n",
       "    <tr>\n",
       "      <th>mean</th>\n",
       "      <td>79.691448</td>\n",
       "    </tr>\n",
       "    <tr>\n",
       "      <th>std</th>\n",
       "      <td>148.780859</td>\n",
       "    </tr>\n",
       "    <tr>\n",
       "      <th>min</th>\n",
       "      <td>0.500000</td>\n",
       "    </tr>\n",
       "    <tr>\n",
       "      <th>25%</th>\n",
       "      <td>18.000000</td>\n",
       "    </tr>\n",
       "    <tr>\n",
       "      <th>50%</th>\n",
       "      <td>35.000000</td>\n",
       "    </tr>\n",
       "    <tr>\n",
       "      <th>75%</th>\n",
       "      <td>80.000000</td>\n",
       "    </tr>\n",
       "    <tr>\n",
       "      <th>max</th>\n",
       "      <td>20045.000000</td>\n",
       "    </tr>\n",
       "  </tbody>\n",
       "</table>\n",
       "</div>"
      ],
      "text/plain": [
       "       Retails_Price\n",
       "count  578525.000000\n",
       "mean       79.691448\n",
       "std       148.780859\n",
       "min         0.500000\n",
       "25%        18.000000\n",
       "50%        35.000000\n",
       "75%        80.000000\n",
       "max     20045.000000"
      ]
     },
     "execution_count": 17,
     "metadata": {},
     "output_type": "execute_result"
    }
   ],
   "source": [
    "df.describe()"
   ]
  },
  {
   "cell_type": "markdown",
   "id": "43d72dc9",
   "metadata": {},
   "source": [
    "# 3 . The missing values (Column_wise)"
   ]
  },
  {
   "cell_type": "code",
   "execution_count": 18,
   "id": "38a0a6e9",
   "metadata": {},
   "outputs": [
    {
     "data": {
      "text/plain": [
       "State                 0\n",
       "Centre                0\n",
       "Commodity          9720\n",
       "Variety          205578\n",
       "Date                  0\n",
       "Retails_Price    568921\n",
       "dtype: int64"
      ]
     },
     "execution_count": 18,
     "metadata": {},
     "output_type": "execute_result"
    }
   ],
   "source": [
    "df.isnull().sum()"
   ]
  },
  {
   "cell_type": "code",
   "execution_count": 41,
   "id": "08b468e2",
   "metadata": {},
   "outputs": [
    {
     "data": {
      "text/html": [
       "<div>\n",
       "<style scoped>\n",
       "    .dataframe tbody tr th:only-of-type {\n",
       "        vertical-align: middle;\n",
       "    }\n",
       "\n",
       "    .dataframe tbody tr th {\n",
       "        vertical-align: top;\n",
       "    }\n",
       "\n",
       "    .dataframe thead th {\n",
       "        text-align: right;\n",
       "    }\n",
       "</style>\n",
       "<table border=\"1\" class=\"dataframe\">\n",
       "  <thead>\n",
       "    <tr style=\"text-align: right;\">\n",
       "      <th></th>\n",
       "      <th>State</th>\n",
       "      <th>Centre</th>\n",
       "      <th>Commodity</th>\n",
       "      <th>Variety</th>\n",
       "      <th>Date</th>\n",
       "      <th>Retails_Price</th>\n",
       "    </tr>\n",
       "  </thead>\n",
       "  <tbody>\n",
       "    <tr>\n",
       "      <th>85</th>\n",
       "      <td>West Bengal</td>\n",
       "      <td>Malda</td>\n",
       "      <td>NaN</td>\n",
       "      <td>Split</td>\n",
       "      <td>JAN-2001</td>\n",
       "      <td>26.0</td>\n",
       "    </tr>\n",
       "    <tr>\n",
       "      <th>171</th>\n",
       "      <td>West Bengal</td>\n",
       "      <td>Malda</td>\n",
       "      <td>NaN</td>\n",
       "      <td>NaN</td>\n",
       "      <td>JAN-2001</td>\n",
       "      <td>NaN</td>\n",
       "    </tr>\n",
       "    <tr>\n",
       "      <th>257</th>\n",
       "      <td>West Bengal</td>\n",
       "      <td>Malda</td>\n",
       "      <td>NaN</td>\n",
       "      <td>FAQ</td>\n",
       "      <td>JAN-2001</td>\n",
       "      <td>NaN</td>\n",
       "    </tr>\n",
       "    <tr>\n",
       "      <th>343</th>\n",
       "      <td>West Bengal</td>\n",
       "      <td>Malda</td>\n",
       "      <td>NaN</td>\n",
       "      <td>FAQ</td>\n",
       "      <td>JAN-2001</td>\n",
       "      <td>NaN</td>\n",
       "    </tr>\n",
       "    <tr>\n",
       "      <th>404</th>\n",
       "      <td>West Bengal</td>\n",
       "      <td>Asansol</td>\n",
       "      <td>NaN</td>\n",
       "      <td>FAQ</td>\n",
       "      <td>JAN-2001</td>\n",
       "      <td>NaN</td>\n",
       "    </tr>\n",
       "    <tr>\n",
       "      <th>...</th>\n",
       "      <td>...</td>\n",
       "      <td>...</td>\n",
       "      <td>...</td>\n",
       "      <td>...</td>\n",
       "      <td>...</td>\n",
       "      <td>...</td>\n",
       "    </tr>\n",
       "    <tr>\n",
       "      <th>1146775</th>\n",
       "      <td>West Bengal</td>\n",
       "      <td>Malda</td>\n",
       "      <td>NaN</td>\n",
       "      <td>NaN</td>\n",
       "      <td>FEB-2021</td>\n",
       "      <td>95.0</td>\n",
       "    </tr>\n",
       "    <tr>\n",
       "      <th>1147024</th>\n",
       "      <td>West Bengal</td>\n",
       "      <td>Malda</td>\n",
       "      <td>NaN</td>\n",
       "      <td>FAQ</td>\n",
       "      <td>MAR-2021</td>\n",
       "      <td>10.0</td>\n",
       "    </tr>\n",
       "    <tr>\n",
       "      <th>1147109</th>\n",
       "      <td>West Bengal</td>\n",
       "      <td>Malda</td>\n",
       "      <td>NaN</td>\n",
       "      <td>Powdered Agmark</td>\n",
       "      <td>MAR-2021</td>\n",
       "      <td>25.0</td>\n",
       "    </tr>\n",
       "    <tr>\n",
       "      <th>1147195</th>\n",
       "      <td>West Bengal</td>\n",
       "      <td>Malda</td>\n",
       "      <td>NaN</td>\n",
       "      <td>Split</td>\n",
       "      <td>MAR-2021</td>\n",
       "      <td>110.0</td>\n",
       "    </tr>\n",
       "    <tr>\n",
       "      <th>1147281</th>\n",
       "      <td>West Bengal</td>\n",
       "      <td>Malda</td>\n",
       "      <td>NaN</td>\n",
       "      <td>NaN</td>\n",
       "      <td>MAR-2021</td>\n",
       "      <td>95.0</td>\n",
       "    </tr>\n",
       "  </tbody>\n",
       "</table>\n",
       "<p>9720 rows × 6 columns</p>\n",
       "</div>"
      ],
      "text/plain": [
       "               State   Centre Commodity          Variety      Date  \\\n",
       "85       West Bengal    Malda       NaN            Split  JAN-2001   \n",
       "171      West Bengal    Malda       NaN              NaN  JAN-2001   \n",
       "257      West Bengal    Malda       NaN              FAQ  JAN-2001   \n",
       "343      West Bengal    Malda       NaN              FAQ  JAN-2001   \n",
       "404      West Bengal  Asansol       NaN              FAQ  JAN-2001   \n",
       "...              ...      ...       ...              ...       ...   \n",
       "1146775  West Bengal    Malda       NaN              NaN  FEB-2021   \n",
       "1147024  West Bengal    Malda       NaN              FAQ  MAR-2021   \n",
       "1147109  West Bengal    Malda       NaN  Powdered Agmark  MAR-2021   \n",
       "1147195  West Bengal    Malda       NaN            Split  MAR-2021   \n",
       "1147281  West Bengal    Malda       NaN              NaN  MAR-2021   \n",
       "\n",
       "         Retails_Price  \n",
       "85                26.0  \n",
       "171                NaN  \n",
       "257                NaN  \n",
       "343                NaN  \n",
       "404                NaN  \n",
       "...                ...  \n",
       "1146775           95.0  \n",
       "1147024           10.0  \n",
       "1147109           25.0  \n",
       "1147195          110.0  \n",
       "1147281           95.0  \n",
       "\n",
       "[9720 rows x 6 columns]"
      ]
     },
     "execution_count": 41,
     "metadata": {},
     "output_type": "execute_result"
    }
   ],
   "source": [
    "miss_df = df[df[\"Commodity\"].isnull()]\n",
    "miss_df"
   ]
  },
  {
   "cell_type": "markdown",
   "id": "d13315a1",
   "metadata": {},
   "source": [
    "# The missing Values (Column_Wise)"
   ]
  },
  {
   "cell_type": "code",
   "execution_count": 20,
   "id": "3fb80537",
   "metadata": {},
   "outputs": [
    {
     "data": {
      "text/plain": [
       "Retails_Price    568921\n",
       "Variety          205578\n",
       "Commodity          9720\n",
       "State                 0\n",
       "Centre                0\n",
       "Date                  0\n",
       "dtype: int64"
      ]
     },
     "execution_count": 20,
     "metadata": {},
     "output_type": "execute_result"
    }
   ],
   "source": [
    "df.isnull().sum(axis=0).sort_values(ascending=False)"
   ]
  },
  {
   "cell_type": "markdown",
   "id": "f2ffd779",
   "metadata": {},
   "source": [
    "# The missing values (row_wise)\n"
   ]
  },
  {
   "cell_type": "code",
   "execution_count": 21,
   "id": "2ce659ad",
   "metadata": {},
   "outputs": [
    {
     "data": {
      "text/plain": [
       "502684    3\n",
       "618314    3\n",
       "57562     3\n",
       "144072    3\n",
       "359399    3\n",
       "         ..\n",
       "724861    0\n",
       "275986    0\n",
       "724859    0\n",
       "275987    0\n",
       "0         0\n",
       "Length: 1147446, dtype: int64"
      ]
     },
     "execution_count": 21,
     "metadata": {},
     "output_type": "execute_result"
    }
   ],
   "source": [
    "df.isnull().sum(axis=1).sort_values(ascending=False)"
   ]
  },
  {
   "cell_type": "markdown",
   "id": "694682be",
   "metadata": {},
   "source": [
    "# Column having at least one missing value"
   ]
  },
  {
   "cell_type": "code",
   "execution_count": 22,
   "id": "cc13a475",
   "metadata": {},
   "outputs": [
    {
     "data": {
      "text/plain": [
       "State            False\n",
       "Centre           False\n",
       "Commodity         True\n",
       "Variety           True\n",
       "Date             False\n",
       "Retails_Price     True\n",
       "dtype: bool"
      ]
     },
     "execution_count": 22,
     "metadata": {},
     "output_type": "execute_result"
    }
   ],
   "source": [
    "df.isnull().any()"
   ]
  },
  {
   "cell_type": "code",
   "execution_count": 23,
   "id": "c245850f",
   "metadata": {},
   "outputs": [
    {
     "data": {
      "text/plain": [
       "RangeIndex(start=0, stop=1147446, step=1)"
      ]
     },
     "execution_count": 23,
     "metadata": {},
     "output_type": "execute_result"
    }
   ],
   "source": [
    "df.index"
   ]
  },
  {
   "cell_type": "markdown",
   "id": "d83053cf",
   "metadata": {},
   "source": [
    "# Column Having all missing values"
   ]
  },
  {
   "cell_type": "code",
   "execution_count": 24,
   "id": "ec8f368b",
   "metadata": {},
   "outputs": [
    {
     "data": {
      "text/plain": [
       "State            False\n",
       "Centre           False\n",
       "Commodity        False\n",
       "Variety          False\n",
       "Date             False\n",
       "Retails_Price    False\n",
       "dtype: bool"
      ]
     },
     "execution_count": 24,
     "metadata": {},
     "output_type": "execute_result"
    }
   ],
   "source": [
    "df.isnull().all(axis=0)"
   ]
  },
  {
   "cell_type": "markdown",
   "id": "1ccd7f26",
   "metadata": {},
   "source": [
    "# Rows having all missing values"
   ]
  },
  {
   "cell_type": "code",
   "execution_count": 42,
   "id": "313146db",
   "metadata": {},
   "outputs": [
    {
     "data": {
      "text/plain": [
       "0"
      ]
     },
     "execution_count": 42,
     "metadata": {},
     "output_type": "execute_result"
    }
   ],
   "source": [
    "df.isnull().all(axis=1).sum()"
   ]
  },
  {
   "cell_type": "markdown",
   "id": "2b4dd1b4",
   "metadata": {},
   "source": [
    "# 4 . Save the clean data in CSV and JSON format"
   ]
  },
  {
   "cell_type": "code",
   "execution_count": 43,
   "id": "72400fba",
   "metadata": {},
   "outputs": [],
   "source": [
    "import csv"
   ]
  },
  {
   "cell_type": "code",
   "execution_count": 44,
   "id": "46d3a127",
   "metadata": {},
   "outputs": [],
   "source": [
    "df.to_csv(\"Sujan_Clean_EDA_Data.csv\")"
   ]
  },
  {
   "cell_type": "code",
   "execution_count": 45,
   "id": "3c16c80d",
   "metadata": {},
   "outputs": [],
   "source": [
    "df.to_json(\"Sujan_Clean_EDA_Data.json\")"
   ]
  },
  {
   "cell_type": "code",
   "execution_count": 46,
   "id": "96be4160",
   "metadata": {},
   "outputs": [
    {
     "data": {
      "text/plain": [
       "(1147446, 6)"
      ]
     },
     "execution_count": 46,
     "metadata": {},
     "output_type": "execute_result"
    }
   ],
   "source": [
    "df.shape"
   ]
  },
  {
   "cell_type": "markdown",
   "id": "d9917224",
   "metadata": {},
   "source": [
    "# EDA with Visualization if required"
   ]
  },
  {
   "cell_type": "markdown",
   "id": "00e0e008",
   "metadata": {},
   "source": [
    "# 5 . Load Cleaned Dataset"
   ]
  },
  {
   "cell_type": "code",
   "execution_count": 47,
   "id": "79fe525e",
   "metadata": {},
   "outputs": [
    {
     "data": {
      "text/html": [
       "<div>\n",
       "<style scoped>\n",
       "    .dataframe tbody tr th:only-of-type {\n",
       "        vertical-align: middle;\n",
       "    }\n",
       "\n",
       "    .dataframe tbody tr th {\n",
       "        vertical-align: top;\n",
       "    }\n",
       "\n",
       "    .dataframe thead th {\n",
       "        text-align: right;\n",
       "    }\n",
       "</style>\n",
       "<table border=\"1\" class=\"dataframe\">\n",
       "  <thead>\n",
       "    <tr style=\"text-align: right;\">\n",
       "      <th></th>\n",
       "      <th>State</th>\n",
       "      <th>Centre</th>\n",
       "      <th>Commodity</th>\n",
       "      <th>Variety</th>\n",
       "      <th>Date</th>\n",
       "      <th>Retails_Price</th>\n",
       "    </tr>\n",
       "  </thead>\n",
       "  <tbody>\n",
       "    <tr>\n",
       "      <th>0</th>\n",
       "      <td>Andhra Pradesh</td>\n",
       "      <td>Chittoor</td>\n",
       "      <td>Moong</td>\n",
       "      <td>Split</td>\n",
       "      <td>JAN-2001</td>\n",
       "      <td>24.0</td>\n",
       "    </tr>\n",
       "    <tr>\n",
       "      <th>1</th>\n",
       "      <td>Andhra Pradesh</td>\n",
       "      <td>Guntur</td>\n",
       "      <td>Moong</td>\n",
       "      <td>Split</td>\n",
       "      <td>JAN-2001</td>\n",
       "      <td>26.0</td>\n",
       "    </tr>\n",
       "    <tr>\n",
       "      <th>2</th>\n",
       "      <td>Andhra Pradesh</td>\n",
       "      <td>Kurnool</td>\n",
       "      <td>Moong</td>\n",
       "      <td>Split</td>\n",
       "      <td>JAN-2001</td>\n",
       "      <td>25.5</td>\n",
       "    </tr>\n",
       "    <tr>\n",
       "      <th>3</th>\n",
       "      <td>Andhra Pradesh</td>\n",
       "      <td>Vishakhapatnam</td>\n",
       "      <td>Moong</td>\n",
       "      <td>Split</td>\n",
       "      <td>JAN-2001</td>\n",
       "      <td>NaN</td>\n",
       "    </tr>\n",
       "    <tr>\n",
       "      <th>4</th>\n",
       "      <td>Arunachal Pradesh</td>\n",
       "      <td>Itanagar</td>\n",
       "      <td>Moong</td>\n",
       "      <td>Split</td>\n",
       "      <td>JAN-2001</td>\n",
       "      <td>NaN</td>\n",
       "    </tr>\n",
       "    <tr>\n",
       "      <th>...</th>\n",
       "      <td>...</td>\n",
       "      <td>...</td>\n",
       "      <td>...</td>\n",
       "      <td>...</td>\n",
       "      <td>...</td>\n",
       "      <td>...</td>\n",
       "    </tr>\n",
       "    <tr>\n",
       "      <th>1147441</th>\n",
       "      <td>West Bengal</td>\n",
       "      <td>Jalpaiguri</td>\n",
       "      <td>Wheat</td>\n",
       "      <td>Kalyan HYV</td>\n",
       "      <td>MAR-2021</td>\n",
       "      <td>NaN</td>\n",
       "    </tr>\n",
       "    <tr>\n",
       "      <th>1147442</th>\n",
       "      <td>West Bengal</td>\n",
       "      <td>Kolkata</td>\n",
       "      <td>Wheat</td>\n",
       "      <td>Desi</td>\n",
       "      <td>MAR-2021</td>\n",
       "      <td>NaN</td>\n",
       "    </tr>\n",
       "    <tr>\n",
       "      <th>1147443</th>\n",
       "      <td>West Bengal</td>\n",
       "      <td>Kolkata</td>\n",
       "      <td>Wheat</td>\n",
       "      <td>Kalyan HYV</td>\n",
       "      <td>MAR-2021</td>\n",
       "      <td>NaN</td>\n",
       "    </tr>\n",
       "    <tr>\n",
       "      <th>1147444</th>\n",
       "      <td>West Bengal</td>\n",
       "      <td>Malda</td>\n",
       "      <td>Wheat</td>\n",
       "      <td>Desi</td>\n",
       "      <td>MAR-2021</td>\n",
       "      <td>20.0</td>\n",
       "    </tr>\n",
       "    <tr>\n",
       "      <th>1147445</th>\n",
       "      <td>West Bengal</td>\n",
       "      <td>Malda</td>\n",
       "      <td>Wheat</td>\n",
       "      <td>Kalyan HYV</td>\n",
       "      <td>MAR-2021</td>\n",
       "      <td>NaN</td>\n",
       "    </tr>\n",
       "  </tbody>\n",
       "</table>\n",
       "<p>1147446 rows × 6 columns</p>\n",
       "</div>"
      ],
      "text/plain": [
       "                     State          Centre Commodity     Variety      Date  \\\n",
       "0           Andhra Pradesh        Chittoor     Moong       Split  JAN-2001   \n",
       "1           Andhra Pradesh          Guntur     Moong       Split  JAN-2001   \n",
       "2           Andhra Pradesh         Kurnool     Moong       Split  JAN-2001   \n",
       "3           Andhra Pradesh  Vishakhapatnam     Moong       Split  JAN-2001   \n",
       "4        Arunachal Pradesh        Itanagar     Moong       Split  JAN-2001   \n",
       "...                    ...             ...       ...         ...       ...   \n",
       "1147441        West Bengal      Jalpaiguri     Wheat  Kalyan HYV  MAR-2021   \n",
       "1147442        West Bengal         Kolkata     Wheat        Desi  MAR-2021   \n",
       "1147443        West Bengal         Kolkata     Wheat  Kalyan HYV  MAR-2021   \n",
       "1147444        West Bengal           Malda     Wheat        Desi  MAR-2021   \n",
       "1147445        West Bengal           Malda     Wheat  Kalyan HYV  MAR-2021   \n",
       "\n",
       "         Retails_Price  \n",
       "0                 24.0  \n",
       "1                 26.0  \n",
       "2                 25.5  \n",
       "3                  NaN  \n",
       "4                  NaN  \n",
       "...                ...  \n",
       "1147441            NaN  \n",
       "1147442            NaN  \n",
       "1147443            NaN  \n",
       "1147444           20.0  \n",
       "1147445            NaN  \n",
       "\n",
       "[1147446 rows x 6 columns]"
      ]
     },
     "execution_count": 47,
     "metadata": {},
     "output_type": "execute_result"
    }
   ],
   "source": [
    "df2 = df\n",
    "df2"
   ]
  },
  {
   "cell_type": "markdown",
   "id": "c54ad4ac",
   "metadata": {},
   "source": [
    "# 6 . Which date has highest price of wheat"
   ]
  },
  {
   "cell_type": "code",
   "execution_count": 48,
   "id": "13e80b54",
   "metadata": {},
   "outputs": [
    {
     "data": {
      "text/html": [
       "<div>\n",
       "<style scoped>\n",
       "    .dataframe tbody tr th:only-of-type {\n",
       "        vertical-align: middle;\n",
       "    }\n",
       "\n",
       "    .dataframe tbody tr th {\n",
       "        vertical-align: top;\n",
       "    }\n",
       "\n",
       "    .dataframe thead th {\n",
       "        text-align: right;\n",
       "    }\n",
       "</style>\n",
       "<table border=\"1\" class=\"dataframe\">\n",
       "  <thead>\n",
       "    <tr style=\"text-align: right;\">\n",
       "      <th></th>\n",
       "      <th>State</th>\n",
       "      <th>Centre</th>\n",
       "      <th>Commodity</th>\n",
       "      <th>Variety</th>\n",
       "      <th>Date</th>\n",
       "      <th>Retails_Price</th>\n",
       "    </tr>\n",
       "  </thead>\n",
       "  <tbody>\n",
       "    <tr>\n",
       "      <th>1024830</th>\n",
       "      <td>Andhra Pradesh</td>\n",
       "      <td>Chittoor</td>\n",
       "      <td>Wheat</td>\n",
       "      <td>Desi</td>\n",
       "      <td>JAN-2001</td>\n",
       "      <td>13.0</td>\n",
       "    </tr>\n",
       "    <tr>\n",
       "      <th>1024831</th>\n",
       "      <td>Andhra Pradesh</td>\n",
       "      <td>Chittoor</td>\n",
       "      <td>Wheat</td>\n",
       "      <td>Kalyan HYV</td>\n",
       "      <td>JAN-2001</td>\n",
       "      <td>10.0</td>\n",
       "    </tr>\n",
       "    <tr>\n",
       "      <th>1024832</th>\n",
       "      <td>Andhra Pradesh</td>\n",
       "      <td>Guntur</td>\n",
       "      <td>Wheat</td>\n",
       "      <td>Desi</td>\n",
       "      <td>JAN-2001</td>\n",
       "      <td>11.5</td>\n",
       "    </tr>\n",
       "    <tr>\n",
       "      <th>1024833</th>\n",
       "      <td>Andhra Pradesh</td>\n",
       "      <td>Guntur</td>\n",
       "      <td>Wheat</td>\n",
       "      <td>Kalyan HYV</td>\n",
       "      <td>JAN-2001</td>\n",
       "      <td>NaN</td>\n",
       "    </tr>\n",
       "    <tr>\n",
       "      <th>1024834</th>\n",
       "      <td>Andhra Pradesh</td>\n",
       "      <td>Kurnool</td>\n",
       "      <td>Wheat</td>\n",
       "      <td>Desi</td>\n",
       "      <td>JAN-2001</td>\n",
       "      <td>NaN</td>\n",
       "    </tr>\n",
       "    <tr>\n",
       "      <th>...</th>\n",
       "      <td>...</td>\n",
       "      <td>...</td>\n",
       "      <td>...</td>\n",
       "      <td>...</td>\n",
       "      <td>...</td>\n",
       "      <td>...</td>\n",
       "    </tr>\n",
       "    <tr>\n",
       "      <th>1147441</th>\n",
       "      <td>West Bengal</td>\n",
       "      <td>Jalpaiguri</td>\n",
       "      <td>Wheat</td>\n",
       "      <td>Kalyan HYV</td>\n",
       "      <td>MAR-2021</td>\n",
       "      <td>NaN</td>\n",
       "    </tr>\n",
       "    <tr>\n",
       "      <th>1147442</th>\n",
       "      <td>West Bengal</td>\n",
       "      <td>Kolkata</td>\n",
       "      <td>Wheat</td>\n",
       "      <td>Desi</td>\n",
       "      <td>MAR-2021</td>\n",
       "      <td>NaN</td>\n",
       "    </tr>\n",
       "    <tr>\n",
       "      <th>1147443</th>\n",
       "      <td>West Bengal</td>\n",
       "      <td>Kolkata</td>\n",
       "      <td>Wheat</td>\n",
       "      <td>Kalyan HYV</td>\n",
       "      <td>MAR-2021</td>\n",
       "      <td>NaN</td>\n",
       "    </tr>\n",
       "    <tr>\n",
       "      <th>1147444</th>\n",
       "      <td>West Bengal</td>\n",
       "      <td>Malda</td>\n",
       "      <td>Wheat</td>\n",
       "      <td>Desi</td>\n",
       "      <td>MAR-2021</td>\n",
       "      <td>20.0</td>\n",
       "    </tr>\n",
       "    <tr>\n",
       "      <th>1147445</th>\n",
       "      <td>West Bengal</td>\n",
       "      <td>Malda</td>\n",
       "      <td>Wheat</td>\n",
       "      <td>Kalyan HYV</td>\n",
       "      <td>MAR-2021</td>\n",
       "      <td>NaN</td>\n",
       "    </tr>\n",
       "  </tbody>\n",
       "</table>\n",
       "<p>39852 rows × 6 columns</p>\n",
       "</div>"
      ],
      "text/plain": [
       "                  State      Centre Commodity     Variety      Date  \\\n",
       "1024830  Andhra Pradesh    Chittoor     Wheat        Desi  JAN-2001   \n",
       "1024831  Andhra Pradesh    Chittoor     Wheat  Kalyan HYV  JAN-2001   \n",
       "1024832  Andhra Pradesh      Guntur     Wheat        Desi  JAN-2001   \n",
       "1024833  Andhra Pradesh      Guntur     Wheat  Kalyan HYV  JAN-2001   \n",
       "1024834  Andhra Pradesh     Kurnool     Wheat        Desi  JAN-2001   \n",
       "...                 ...         ...       ...         ...       ...   \n",
       "1147441     West Bengal  Jalpaiguri     Wheat  Kalyan HYV  MAR-2021   \n",
       "1147442     West Bengal     Kolkata     Wheat        Desi  MAR-2021   \n",
       "1147443     West Bengal     Kolkata     Wheat  Kalyan HYV  MAR-2021   \n",
       "1147444     West Bengal       Malda     Wheat        Desi  MAR-2021   \n",
       "1147445     West Bengal       Malda     Wheat  Kalyan HYV  MAR-2021   \n",
       "\n",
       "         Retails_Price  \n",
       "1024830           13.0  \n",
       "1024831           10.0  \n",
       "1024832           11.5  \n",
       "1024833            NaN  \n",
       "1024834            NaN  \n",
       "...                ...  \n",
       "1147441            NaN  \n",
       "1147442            NaN  \n",
       "1147443            NaN  \n",
       "1147444           20.0  \n",
       "1147445            NaN  \n",
       "\n",
       "[39852 rows x 6 columns]"
      ]
     },
     "execution_count": 48,
     "metadata": {},
     "output_type": "execute_result"
    }
   ],
   "source": [
    "com = df.loc[(df['Commodity'] == 'Wheat')]\n",
    "com"
   ]
  },
  {
   "cell_type": "code",
   "execution_count": 59,
   "id": "8f58b587",
   "metadata": {},
   "outputs": [],
   "source": [
    "X = df2.iloc[:,2:4].values\n",
    "y = df2.iloc[:,-1]"
   ]
  },
  {
   "cell_type": "code",
   "execution_count": 57,
   "id": "0f3cf0a5",
   "metadata": {},
   "outputs": [],
   "source": [
    "a = y.value_counts()"
   ]
  },
  {
   "cell_type": "markdown",
   "id": "a29e4aad",
   "metadata": {},
   "source": [
    "# Which date has highest price of wheat?"
   ]
  },
  {
   "cell_type": "code",
   "execution_count": 149,
   "id": "eb7d3cfd",
   "metadata": {},
   "outputs": [
    {
     "data": {
      "text/plain": [
       "State            Tamil Nadu\n",
       "Centre           Coimbatore\n",
       "Commodity             Wheat\n",
       "Variety          Kalyan HYV\n",
       "Date               FEB-2021\n",
       "Retails_Price         130.0\n",
       "Name: 1146895, dtype: object"
      ]
     },
     "execution_count": 149,
     "metadata": {},
     "output_type": "execute_result"
    }
   ],
   "source": [
    "# max_price= com['Retails_Price'].max()\n",
    "# max_price\n",
    "com=df.loc[(df['Commodity'] =='Wheat')]\n",
    "com\n",
    "max_price=com.loc[com['Retails_Price'].idxmax()]\n",
    "max_price"
   ]
  },
  {
   "cell_type": "markdown",
   "id": "3d5ac0d5",
   "metadata": {},
   "source": [
    "# 7 Which is the highest price of wheat state wise"
   ]
  },
  {
   "cell_type": "code",
   "execution_count": 147,
   "id": "daa72b1c",
   "metadata": {},
   "outputs": [
    {
     "data": {
      "text/html": [
       "<div>\n",
       "<style scoped>\n",
       "    .dataframe tbody tr th:only-of-type {\n",
       "        vertical-align: middle;\n",
       "    }\n",
       "\n",
       "    .dataframe tbody tr th {\n",
       "        vertical-align: top;\n",
       "    }\n",
       "\n",
       "    .dataframe thead th {\n",
       "        text-align: right;\n",
       "    }\n",
       "</style>\n",
       "<table border=\"1\" class=\"dataframe\">\n",
       "  <thead>\n",
       "    <tr style=\"text-align: right;\">\n",
       "      <th></th>\n",
       "      <th>State</th>\n",
       "      <th>Centre</th>\n",
       "      <th>Commodity</th>\n",
       "      <th>Variety</th>\n",
       "      <th>Date</th>\n",
       "      <th>Retails_Price</th>\n",
       "    </tr>\n",
       "  </thead>\n",
       "  <tbody>\n",
       "    <tr>\n",
       "      <th>0</th>\n",
       "      <td>Andhra Pradesh</td>\n",
       "      <td>Vishakhapatnam</td>\n",
       "      <td>Wheat</td>\n",
       "      <td>Kalyan HYV</td>\n",
       "      <td>SEP-2020</td>\n",
       "      <td>44.0</td>\n",
       "    </tr>\n",
       "    <tr>\n",
       "      <th>1</th>\n",
       "      <td>Arunachal Pradesh</td>\n",
       "      <td>Itanagar</td>\n",
       "      <td>Wheat</td>\n",
       "      <td>Kalyan HYV</td>\n",
       "      <td>SEP-2020</td>\n",
       "      <td>47.0</td>\n",
       "    </tr>\n",
       "    <tr>\n",
       "      <th>2</th>\n",
       "      <td>Assam</td>\n",
       "      <td>Silchar</td>\n",
       "      <td>Wheat</td>\n",
       "      <td>Kalyan HYV</td>\n",
       "      <td>SEP-2020</td>\n",
       "      <td>38.0</td>\n",
       "    </tr>\n",
       "    <tr>\n",
       "      <th>3</th>\n",
       "      <td>Bihar</td>\n",
       "      <td>Patna</td>\n",
       "      <td>Wheat</td>\n",
       "      <td>Kalyan HYV</td>\n",
       "      <td>SEP-2020</td>\n",
       "      <td>30.0</td>\n",
       "    </tr>\n",
       "    <tr>\n",
       "      <th>4</th>\n",
       "      <td>Goa</td>\n",
       "      <td>Panaji</td>\n",
       "      <td>Wheat</td>\n",
       "      <td>Kalyan HYV</td>\n",
       "      <td>SEP-2020</td>\n",
       "      <td>36.0</td>\n",
       "    </tr>\n",
       "    <tr>\n",
       "      <th>5</th>\n",
       "      <td>Gujarat</td>\n",
       "      <td>Vadodra</td>\n",
       "      <td>Wheat</td>\n",
       "      <td>Kalyan HYV</td>\n",
       "      <td>SEP-2020</td>\n",
       "      <td>36.0</td>\n",
       "    </tr>\n",
       "    <tr>\n",
       "      <th>6</th>\n",
       "      <td>Haryana</td>\n",
       "      <td>Karnal</td>\n",
       "      <td>Wheat</td>\n",
       "      <td>Kalyan HYV</td>\n",
       "      <td>SEP-2020</td>\n",
       "      <td>26.5</td>\n",
       "    </tr>\n",
       "    <tr>\n",
       "      <th>7</th>\n",
       "      <td>Himachal Pradesh</td>\n",
       "      <td>Shimla</td>\n",
       "      <td>Wheat</td>\n",
       "      <td>Kalyan HYV</td>\n",
       "      <td>SEP-2020</td>\n",
       "      <td>24.0</td>\n",
       "    </tr>\n",
       "    <tr>\n",
       "      <th>8</th>\n",
       "      <td>Jammu Kashmir</td>\n",
       "      <td>Shrinagar</td>\n",
       "      <td>Wheat</td>\n",
       "      <td>Kalyan HYV</td>\n",
       "      <td>SEP-2020</td>\n",
       "      <td>25.0</td>\n",
       "    </tr>\n",
       "    <tr>\n",
       "      <th>9</th>\n",
       "      <td>Jharkhand</td>\n",
       "      <td>Ranchi</td>\n",
       "      <td>Wheat</td>\n",
       "      <td>Kalyan HYV</td>\n",
       "      <td>SEP-2020</td>\n",
       "      <td>32.0</td>\n",
       "    </tr>\n",
       "    <tr>\n",
       "      <th>10</th>\n",
       "      <td>Karnataka</td>\n",
       "      <td>Tumkur</td>\n",
       "      <td>Wheat</td>\n",
       "      <td>Kalyan HYV</td>\n",
       "      <td>SEP-2020</td>\n",
       "      <td>70.0</td>\n",
       "    </tr>\n",
       "    <tr>\n",
       "      <th>11</th>\n",
       "      <td>Kerala</td>\n",
       "      <td>Trivandrum</td>\n",
       "      <td>Wheat</td>\n",
       "      <td>Kalyan HYV</td>\n",
       "      <td>SEP-2020</td>\n",
       "      <td>44.0</td>\n",
       "    </tr>\n",
       "    <tr>\n",
       "      <th>12</th>\n",
       "      <td>Madhya Pradesh</td>\n",
       "      <td>Sehore</td>\n",
       "      <td>Wheat</td>\n",
       "      <td>Kalyan HYV</td>\n",
       "      <td>SEP-2020</td>\n",
       "      <td>32.0</td>\n",
       "    </tr>\n",
       "    <tr>\n",
       "      <th>13</th>\n",
       "      <td>Maharashtra</td>\n",
       "      <td>Pune</td>\n",
       "      <td>Wheat</td>\n",
       "      <td>Kalyan HYV</td>\n",
       "      <td>SEP-2020</td>\n",
       "      <td>40.0</td>\n",
       "    </tr>\n",
       "    <tr>\n",
       "      <th>14</th>\n",
       "      <td>Manipur</td>\n",
       "      <td>Imphal</td>\n",
       "      <td>Wheat</td>\n",
       "      <td>Kalyan HYV</td>\n",
       "      <td>SEP-2020</td>\n",
       "      <td>22.0</td>\n",
       "    </tr>\n",
       "    <tr>\n",
       "      <th>15</th>\n",
       "      <td>Meghalaya</td>\n",
       "      <td>Shillong</td>\n",
       "      <td>Wheat</td>\n",
       "      <td>Kalyan HYV</td>\n",
       "      <td>SEP-2020</td>\n",
       "      <td>24.0</td>\n",
       "    </tr>\n",
       "    <tr>\n",
       "      <th>16</th>\n",
       "      <td>Nagaland</td>\n",
       "      <td>Kohima</td>\n",
       "      <td>Wheat</td>\n",
       "      <td>Kalyan HYV</td>\n",
       "      <td>SEP-2020</td>\n",
       "      <td>25.0</td>\n",
       "    </tr>\n",
       "    <tr>\n",
       "      <th>17</th>\n",
       "      <td>National Capital</td>\n",
       "      <td>Delhi</td>\n",
       "      <td>Wheat</td>\n",
       "      <td>Kalyan HYV</td>\n",
       "      <td>SEP-2020</td>\n",
       "      <td>29.0</td>\n",
       "    </tr>\n",
       "    <tr>\n",
       "      <th>18</th>\n",
       "      <td>Orissa</td>\n",
       "      <td>Cuttack</td>\n",
       "      <td>Wheat</td>\n",
       "      <td>Kalyan HYV</td>\n",
       "      <td>SEP-2020</td>\n",
       "      <td>36.0</td>\n",
       "    </tr>\n",
       "    <tr>\n",
       "      <th>19</th>\n",
       "      <td>Punjab</td>\n",
       "      <td>Ludhiana</td>\n",
       "      <td>Wheat</td>\n",
       "      <td>Kalyan HYV</td>\n",
       "      <td>SEP-2020</td>\n",
       "      <td>25.0</td>\n",
       "    </tr>\n",
       "    <tr>\n",
       "      <th>20</th>\n",
       "      <td>Rajasthan</td>\n",
       "      <td>Udaipur</td>\n",
       "      <td>Wheat</td>\n",
       "      <td>Kalyan HYV</td>\n",
       "      <td>SEP-2020</td>\n",
       "      <td>30.0</td>\n",
       "    </tr>\n",
       "    <tr>\n",
       "      <th>21</th>\n",
       "      <td>Sikkim</td>\n",
       "      <td>Gangtok</td>\n",
       "      <td>Wheat</td>\n",
       "      <td>Kalyan HYV</td>\n",
       "      <td>SEP-2020</td>\n",
       "      <td>30.0</td>\n",
       "    </tr>\n",
       "    <tr>\n",
       "      <th>22</th>\n",
       "      <td>Tamil Nadu</td>\n",
       "      <td>Tirunelveli</td>\n",
       "      <td>Wheat</td>\n",
       "      <td>Kalyan HYV</td>\n",
       "      <td>SEP-2020</td>\n",
       "      <td>130.0</td>\n",
       "    </tr>\n",
       "    <tr>\n",
       "      <th>23</th>\n",
       "      <td>Telangana</td>\n",
       "      <td>Hyderabad</td>\n",
       "      <td>Wheat</td>\n",
       "      <td>Kalyan HYV</td>\n",
       "      <td>SEP-2020</td>\n",
       "      <td>45.0</td>\n",
       "    </tr>\n",
       "    <tr>\n",
       "      <th>24</th>\n",
       "      <td>Tripura</td>\n",
       "      <td>Agartala</td>\n",
       "      <td>Wheat</td>\n",
       "      <td>Kalyan HYV</td>\n",
       "      <td>SEP-2020</td>\n",
       "      <td>32.0</td>\n",
       "    </tr>\n",
       "    <tr>\n",
       "      <th>25</th>\n",
       "      <td>Union Territories</td>\n",
       "      <td>Silvasa</td>\n",
       "      <td>Wheat</td>\n",
       "      <td>Kalyan HYV</td>\n",
       "      <td>SEP-2020</td>\n",
       "      <td>25.0</td>\n",
       "    </tr>\n",
       "    <tr>\n",
       "      <th>26</th>\n",
       "      <td>Uttar Pradesh</td>\n",
       "      <td>Saharanpur</td>\n",
       "      <td>Wheat</td>\n",
       "      <td>Kalyan HYV</td>\n",
       "      <td>SEP-2020</td>\n",
       "      <td>27.0</td>\n",
       "    </tr>\n",
       "    <tr>\n",
       "      <th>27</th>\n",
       "      <td>Uttarakhand</td>\n",
       "      <td>Srinagar</td>\n",
       "      <td>Wheat</td>\n",
       "      <td>Kalyan HYV</td>\n",
       "      <td>SEP-2020</td>\n",
       "      <td>26.0</td>\n",
       "    </tr>\n",
       "    <tr>\n",
       "      <th>28</th>\n",
       "      <td>West Bengal</td>\n",
       "      <td>Malda</td>\n",
       "      <td>Wheat</td>\n",
       "      <td>Kalyan HYV</td>\n",
       "      <td>SEP-2020</td>\n",
       "      <td>28.0</td>\n",
       "    </tr>\n",
       "  </tbody>\n",
       "</table>\n",
       "</div>"
      ],
      "text/plain": [
       "                State          Centre Commodity     Variety      Date  \\\n",
       "0      Andhra Pradesh  Vishakhapatnam     Wheat  Kalyan HYV  SEP-2020   \n",
       "1   Arunachal Pradesh        Itanagar     Wheat  Kalyan HYV  SEP-2020   \n",
       "2               Assam         Silchar     Wheat  Kalyan HYV  SEP-2020   \n",
       "3               Bihar           Patna     Wheat  Kalyan HYV  SEP-2020   \n",
       "4                 Goa          Panaji     Wheat  Kalyan HYV  SEP-2020   \n",
       "5             Gujarat         Vadodra     Wheat  Kalyan HYV  SEP-2020   \n",
       "6             Haryana          Karnal     Wheat  Kalyan HYV  SEP-2020   \n",
       "7    Himachal Pradesh          Shimla     Wheat  Kalyan HYV  SEP-2020   \n",
       "8       Jammu Kashmir       Shrinagar     Wheat  Kalyan HYV  SEP-2020   \n",
       "9           Jharkhand          Ranchi     Wheat  Kalyan HYV  SEP-2020   \n",
       "10          Karnataka          Tumkur     Wheat  Kalyan HYV  SEP-2020   \n",
       "11             Kerala      Trivandrum     Wheat  Kalyan HYV  SEP-2020   \n",
       "12     Madhya Pradesh          Sehore     Wheat  Kalyan HYV  SEP-2020   \n",
       "13        Maharashtra            Pune     Wheat  Kalyan HYV  SEP-2020   \n",
       "14            Manipur          Imphal     Wheat  Kalyan HYV  SEP-2020   \n",
       "15          Meghalaya        Shillong     Wheat  Kalyan HYV  SEP-2020   \n",
       "16           Nagaland          Kohima     Wheat  Kalyan HYV  SEP-2020   \n",
       "17   National Capital           Delhi     Wheat  Kalyan HYV  SEP-2020   \n",
       "18             Orissa         Cuttack     Wheat  Kalyan HYV  SEP-2020   \n",
       "19             Punjab        Ludhiana     Wheat  Kalyan HYV  SEP-2020   \n",
       "20          Rajasthan         Udaipur     Wheat  Kalyan HYV  SEP-2020   \n",
       "21             Sikkim         Gangtok     Wheat  Kalyan HYV  SEP-2020   \n",
       "22         Tamil Nadu     Tirunelveli     Wheat  Kalyan HYV  SEP-2020   \n",
       "23          Telangana       Hyderabad     Wheat  Kalyan HYV  SEP-2020   \n",
       "24            Tripura        Agartala     Wheat  Kalyan HYV  SEP-2020   \n",
       "25  Union Territories         Silvasa     Wheat  Kalyan HYV  SEP-2020   \n",
       "26      Uttar Pradesh      Saharanpur     Wheat  Kalyan HYV  SEP-2020   \n",
       "27        Uttarakhand        Srinagar     Wheat  Kalyan HYV  SEP-2020   \n",
       "28        West Bengal           Malda     Wheat  Kalyan HYV  SEP-2020   \n",
       "\n",
       "    Retails_Price  \n",
       "0            44.0  \n",
       "1            47.0  \n",
       "2            38.0  \n",
       "3            30.0  \n",
       "4            36.0  \n",
       "5            36.0  \n",
       "6            26.5  \n",
       "7            24.0  \n",
       "8            25.0  \n",
       "9            32.0  \n",
       "10           70.0  \n",
       "11           44.0  \n",
       "12           32.0  \n",
       "13           40.0  \n",
       "14           22.0  \n",
       "15           24.0  \n",
       "16           25.0  \n",
       "17           29.0  \n",
       "18           36.0  \n",
       "19           25.0  \n",
       "20           30.0  \n",
       "21           30.0  \n",
       "22          130.0  \n",
       "23           45.0  \n",
       "24           32.0  \n",
       "25           25.0  \n",
       "26           27.0  \n",
       "27           26.0  \n",
       "28           28.0  "
      ]
     },
     "execution_count": 147,
     "metadata": {},
     "output_type": "execute_result"
    }
   ],
   "source": [
    "state_wise=com.groupby('State').max().reset_index()\n",
    "state_wise\n",
    "\n",
    "# state wise = com.groupby('State')['Retails_Price'].max()\n",
    "# state_wise\n",
    "# state_wise_sort=state_wise.reset_index().sort_values(['Retails_Price'], ascending = False)\n",
    "# state_wise_sort.reset_index().drop(['index'],axis=1)"
   ]
  },
  {
   "cell_type": "markdown",
   "id": "1ed82500",
   "metadata": {},
   "source": [
    "# Split into features and Target"
   ]
  },
  {
   "cell_type": "code",
   "execution_count": 89,
   "id": "94ddc7b2",
   "metadata": {},
   "outputs": [],
   "source": [
    "X = df.iloc[:,2:4]\n",
    "y = df.iloc[:,-1]"
   ]
  },
  {
   "cell_type": "code",
   "execution_count": 90,
   "id": "792ff915",
   "metadata": {},
   "outputs": [],
   "source": [
    "a = y.value_counts()"
   ]
  },
  {
   "cell_type": "code",
   "execution_count": 92,
   "id": "0646c437",
   "metadata": {},
   "outputs": [
    {
     "data": {
      "image/png": "[encoded data removed]",
      "text/plain": [
       "<Figure size 432x288 with 1 Axes>"
      ]
     },
     "metadata": {},
     "output_type": "display_data"
    }
   ],
   "source": [
    "plt.pie(a,autopct=\"%0.2f\")\n",
    "plt.show()"
   ]
  },
  {
   "cell_type": "markdown",
   "id": "985765af",
   "metadata": {},
   "source": [
    "# Features scaling\n"
   ]
  },
  {
   "cell_type": "code",
   "execution_count": 104,
   "id": "4762f35e",
   "metadata": {},
   "outputs": [],
   "source": [
    "def cofficient(x,y):\n",
    "    \n",
    "    s_x = sum(x)\n",
    "    s_y = sum(y)\n",
    "    s_x2 = sum(x**2)\n",
    "    s_xy = sum(x*y)\n",
    "    n = len(x)\n",
    "    \n",
    "    b0 = (s_y*s_x2 - s_x*s_xy)/(n*s_x2 - (s_x)**2)\n",
    "    b1 = (n*s_xy - s_x*s_y)/(n*s_x2 - (s_x)**2)\n",
    "    \n",
    "    return b0,b1"
   ]
  },
  {
   "cell_type": "code",
   "execution_count": 111,
   "id": "5dde4d37",
   "metadata": {},
   "outputs": [],
   "source": [
    "    from sklearn.metrics import confusion_matrix, accuracy_score, classification_report"
   ]
  },
  {
   "cell_type": "markdown",
   "id": "81bacbc1",
   "metadata": {},
   "source": [
    "# If the Commodity is mustard oil, how many varietes are available in mustard oil"
   ]
  },
  {
   "cell_type": "code",
   "execution_count": 123,
   "id": "98b9f7f9",
   "metadata": {},
   "outputs": [
    {
     "name": "stdout",
     "output_type": "stream",
     "text": [
      "<pandas.core.indexing._iLocIndexer object at 0x000001CE2B9D5C20>\n"
     ]
    }
   ],
   "source": [
    "df2=df.loc[df['Commodity'] == 'Mustard oil','Variety'].iloc(0)\n",
    "print(df2)"
   ]
  },
  {
   "cell_type": "code",
   "execution_count": null,
   "id": "fb3dac3d",
   "metadata": {},
   "outputs": [],
   "source": []
  }
 ],
 "metadata": {
  "kernelspec": {
   "display_name": "Python 3 (ipykernel)",
   "language": "python",
   "name": "python3"
  },
  "language_info": {
   "codemirror_mode": {
    "name": "ipython",
    "version": 3
   },
   "file_extension": ".py",
   "mimetype": "text/x-python",
   "name": "python",
   "nbconvert_exporter": "python",
   "pygments_lexer": "ipython3",
   "version": "3.9.7"
  }
 },
 "nbformat": 4,
 "nbformat_minor": 5
}
